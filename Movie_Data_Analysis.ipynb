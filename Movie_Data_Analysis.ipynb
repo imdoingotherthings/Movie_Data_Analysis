{
 "cells": [
  {
   "cell_type": "markdown",
   "metadata": {},
   "source": [
    "## Welcome to the Movie Data Analysis\n",
    "\n",
    "### Data Analysis Process:\n",
    "<ul>\n",
    "    <li>Question</li>\n",
    "    <li>Data Wrangling</li>\n",
    "    <li>Explore</li>\n",
    "    <li>Draw Conclusions</li>\n",
    "    <li>Communicate</li>\n",
    "</ul>\n",
    "\n",
    "### Table of Contents\n",
    "\n",
    "<ul>\n",
    "    <li><a href=\"#intro\">Introduction</a></li>\n",
    "    <li><a href=\"#wrangle\">Data Wrangling</a></li>\n",
    "    <li><a href=\"#explore\">Exploring Data</a></li>\n",
    "    <li><a href=\"#conclusions\">Conclusions</a></li>\n",
    "</ul>"
   ]
  },
  {
   "cell_type": "markdown",
   "metadata": {},
   "source": [
    "<a id=\"intro\"></a>\n",
    "### Introduction\n",
    "> In this project we analyze revenue, budget and the top 5 movies with the highest revenue of 2015. \n",
    "We start by cleaning the data. Followed by cleaning, we explore our data. Just before Exploring Data \n",
    "we print out the dataframe to see what we kept and what we got rid of. Finally, we analyze and dig deeper into 2015\n",
    "where we begin to chart our data beginning with top 5 movies with the highest revenues. Following, we plot both revenue and budget using a histogram which shows us the distribution of the data. Our final chart shows us the relationship between both revenue and budget using a scatter plot. By using the scatter plot we can see whether the relationship is positive or negative. "
   ]
  },
  {
   "cell_type": "markdown",
   "metadata": {},
   "source": [
    "> **Step 1** - The code block below imports the necessary packages used to open our data into a dataframe which we can then deconstruct and start to view our data. Our final piece of code (df = pd.read_csv('tmdb-movies.csv')) enables us to access the csv file so that we can use the necessary packages to explore our data. (packages: pandas, matplotlib, csv)"
   ]
  },
  {
   "cell_type": "code",
   "execution_count": 82,
   "metadata": {
    "collapsed": true
   },
   "outputs": [],
   "source": [
    "# here we're importing the necessary packages\n",
    "import pandas as pd\n",
    "import numpy as np\n",
    "import matplotlib.pyplot as plt\n",
    "import csv \n",
    "# assigning the csv file to variable df\n",
    "df = pd.read_csv('tmdb-movies.csv')"
   ]
  },
  {
   "cell_type": "markdown",
   "metadata": {},
   "source": [
    "<a id=\"wrangle\"></a>\n",
    "### Data Wrangling"
   ]
  },
  {
   "cell_type": "markdown",
   "metadata": {},
   "source": [
    "> **Step 2** - The code below shows us the data that is in the csv file. We can then access and see the revenue in the dataset like so: df['revenue']. But here we're using df.info to show us all of our data within the csv file. "
   ]
  },
  {
   "cell_type": "code",
   "execution_count": 83,
   "metadata": {},
   "outputs": [
    {
     "name": "stdout",
     "output_type": "stream",
     "text": [
      "<class 'pandas.core.frame.DataFrame'>\n",
      "RangeIndex: 10866 entries, 0 to 10865\n",
      "Data columns (total 21 columns):\n",
      "id                      10866 non-null int64\n",
      "imdb_id                 10856 non-null object\n",
      "popularity              10866 non-null float64\n",
      "budget                  10866 non-null int64\n",
      "revenue                 10866 non-null int64\n",
      "original_title          10866 non-null object\n",
      "cast                    10790 non-null object\n",
      "homepage                2936 non-null object\n",
      "director                10822 non-null object\n",
      "tagline                 8042 non-null object\n",
      "keywords                9373 non-null object\n",
      "overview                10862 non-null object\n",
      "runtime                 10866 non-null int64\n",
      "genres                  10843 non-null object\n",
      "production_companies    9836 non-null object\n",
      "release_date            10866 non-null object\n",
      "vote_count              10866 non-null int64\n",
      "vote_average            10866 non-null float64\n",
      "release_year            10866 non-null int64\n",
      "budget_adj              10866 non-null float64\n",
      "revenue_adj             10866 non-null float64\n",
      "dtypes: float64(4), int64(6), object(11)\n",
      "memory usage: 1.7+ MB\n"
     ]
    }
   ],
   "source": [
    "# checking the dataframe\n",
    "df.info()"
   ]
  },
  {
   "cell_type": "markdown",
   "metadata": {},
   "source": [
    "#### Duplicate Values\n",
    "> Making sure there are no duplicates in the data. If there are any duplicated values, we drop/remove them from the dataframe."
   ]
  },
  {
   "cell_type": "markdown",
   "metadata": {},
   "source": [
    "> **Step 3** - We'll be dissecting the next 3 code blocks. <br/>\n",
    "\n",
    ">**Code block 3 - First Cell**: Here, we are finding the total value of duplicated items in the dataset. <br/>\n",
    "As we can see, there's a total number of 1 duplicated item(s) in the dataset. \n",
    "\n",
    ">**Code block 4 - Second Cell**: Here, we are removing the duplicated items in the dataset. \n",
    "\n",
    ">**Code block 5 - Third Cell**: Finally, we check to see if we have successfully removed the duplicated data in the dataset by using the same code from the first block. Which just sums the total number of duplicated items (if any) in the dataset. "
   ]
  },
  {
   "cell_type": "code",
   "execution_count": 84,
   "metadata": {},
   "outputs": [
    {
     "data": {
      "text/plain": [
       "1"
      ]
     },
     "execution_count": 84,
     "metadata": {},
     "output_type": "execute_result"
    }
   ],
   "source": [
    "# checking any duplicated values\n",
    "sum(df.duplicated())"
   ]
  },
  {
   "cell_type": "code",
   "execution_count": 85,
   "metadata": {
    "collapsed": true
   },
   "outputs": [],
   "source": [
    "# dropping all duplicated items in the data\n",
    "df.drop_duplicates(inplace=True)"
   ]
  },
  {
   "cell_type": "code",
   "execution_count": 86,
   "metadata": {},
   "outputs": [
    {
     "data": {
      "text/plain": [
       "0"
      ]
     },
     "execution_count": 86,
     "metadata": {},
     "output_type": "execute_result"
    }
   ],
   "source": [
    "# checking to see if all duplicate data was deleted successfully\n",
    "sum(df.duplicated())"
   ]
  },
  {
   "cell_type": "markdown",
   "metadata": {},
   "source": [
    "#### NaN - Null Values\n",
    "> Addressing NaN - Null Values.\n",
    "After seeing the data as a whole, I decided to keep certain columns and fill \n",
    "NaN values as 'No (the_column_name)'. Then finally dropping/removing the columns I won't need."
   ]
  },
  {
   "cell_type": "markdown",
   "metadata": {},
   "source": [
    "> **Step 4** - Let's dissect the next 4 blocks of code. <br/>\n",
    "\n",
    "> **Code block 6 - First Cell**: The very first line of code extracts the 'cast' data. Originally when reviewing the data we found a few inconsistencies that needed to be changed in order proceed with our findings. The inconsistencies we found were that both the data from 'cast' and 'genres' were being separated by a '|' (pipe) character instead of a ',' (comma). Therefore, we used code to remove the '|' (pipe) character and by default was set to a ',' (comma). We then reassigned the correct character in the data, which gives us the correct outcome in the data. <br/>\n",
    "We do this for both 'cast' and 'genre'.\n",
    "\n",
    "> **Code block 7 - Second Cell**: So after finding a few inconsistencies in our data, we now had to review the data again and we notice that there was missing data. To resolve this issue we use code, specifically the _.fillna()_ function from our package pandas, which allows us to fill in the data. <br/>\n",
    "We do this for the following data: cast, genre, and overview.\n",
    "\n",
    "> **Code block 8 - Third Cell**: This block of code, as the name implies, _drops_ or _removes_ the following data that we will no longer need in our dataset. \n",
    "\n",
    "> **Code block 9  - Fourth Cell**: Finally, we check to see what data we have left and if there is no missing data. "
   ]
  },
  {
   "cell_type": "code",
   "execution_count": 87,
   "metadata": {
    "collapsed": true
   },
   "outputs": [],
   "source": [
    "# these two blocks of code remove the | out of the data\n",
    "df['cast'] = df['cast'].str.split('|')\n",
    "df['genres'] = df['genres'].str.split('|')"
   ]
  },
  {
   "cell_type": "code",
   "execution_count": 88,
   "metadata": {
    "collapsed": true
   },
   "outputs": [],
   "source": [
    "# these three blocks of code fill the data with the column name \n",
    "df['cast'] = df['cast'].fillna('No Cast')\n",
    "df['genres'] = df['genres'].fillna('No Genre')\n",
    "df['overview'] = df['overview'].fillna('No Overview')"
   ]
  },
  {
   "cell_type": "code",
   "execution_count": 89,
   "metadata": {
    "collapsed": true
   },
   "outputs": [],
   "source": [
    "# dropping all the columns I don't need\n",
    "df.drop(['imdb_id', 'homepage', 'tagline', 'keywords', 'production_companies', 'director', 'overview'], axis=1, inplace=True)"
   ]
  },
  {
   "cell_type": "code",
   "execution_count": 90,
   "metadata": {
    "scrolled": true
   },
   "outputs": [
    {
     "name": "stdout",
     "output_type": "stream",
     "text": [
      "<class 'pandas.core.frame.DataFrame'>\n",
      "Int64Index: 10865 entries, 0 to 10865\n",
      "Data columns (total 14 columns):\n",
      "id                10865 non-null int64\n",
      "popularity        10865 non-null float64\n",
      "budget            10865 non-null int64\n",
      "revenue           10865 non-null int64\n",
      "original_title    10865 non-null object\n",
      "cast              10865 non-null object\n",
      "runtime           10865 non-null int64\n",
      "genres            10865 non-null object\n",
      "release_date      10865 non-null object\n",
      "vote_count        10865 non-null int64\n",
      "vote_average      10865 non-null float64\n",
      "release_year      10865 non-null int64\n",
      "budget_adj        10865 non-null float64\n",
      "revenue_adj       10865 non-null float64\n",
      "dtypes: float64(4), int64(6), object(4)\n",
      "memory usage: 1.2+ MB\n"
     ]
    }
   ],
   "source": [
    "df.info()"
   ]
  },
  {
   "cell_type": "markdown",
   "metadata": {},
   "source": [
    "<a id=\"explore\"></a>\n",
    "## Exploring Data"
   ]
  },
  {
   "cell_type": "markdown",
   "metadata": {},
   "source": [
    "> **Step 5 - Section A** - We finally get to see our data and begin to answer questions. Since the graphs take up most of the screen real estate, we'll be using _sections_ to follow the code.\n",
    "\n",
    "> **Code block 10 - First Cell**: To ask questions regarding a specific time period, we use the pandas function _.query()_ which allows us to essentially filter the data if certain conditions are met. Here, the condition is, if the dataset 'release_year' is equal to 2015 (for the year we want), then sort the values by 'revenue' first and 'original_title' second. Finally, grab the last 5 values of the dataset. <br/>\n",
    "To break it down further, we'll take it step by step. <br/>\n",
    "**.query()**: Let's us filter the data if a condition is met. <br/>\n",
    "**.sort_values()**: Let's us sort (in ascending order by default) our data. <br/>\n",
    "**.iloc[]**: Let's us grab any index in the dataset. <br/>\n",
    "The second and third lines of code assign the data we want, which is 'revenue' and 'original_title', and sort them by descending order. \n",
    "\n",
    "\n",
    "> **Code block 11 - Second Cell**: This cell simply is to plot the chart. "
   ]
  },
  {
   "cell_type": "markdown",
   "metadata": {},
   "source": [
    "### Question 1: What are the top 5 highest revenue films in 2015?"
   ]
  },
  {
   "cell_type": "code",
   "execution_count": 91,
   "metadata": {
    "collapsed": true
   },
   "outputs": [],
   "source": [
    "# df_sort gives us all the last 5 movies in 2015 sorted by the highest revenue\n",
    "df_sort = df.query('release_year == 2015').sort_values(['revenue', 'original_title']).iloc[-5:]\n",
    "df_sort_revenue = df_sort['revenue'].sort_values(ascending=False)\n",
    "df_sort_og = df_sort['original_title'].sort_values(ascending=False)"
   ]
  },
  {
   "cell_type": "code",
   "execution_count": 92,
   "metadata": {},
   "outputs": [
    {
     "data": {
      "text/plain": [
       "[Text(0,0,'0'),\n",
       " Text(0,0,'$250M'),\n",
       " Text(0,0,'$500M'),\n",
       " Text(0,0,'$750M'),\n",
       " Text(0,0,'$1B'),\n",
       " Text(0,0,'$1.25B'),\n",
       " Text(0,0,'$1.5B'),\n",
       " Text(0,0,'$1.75B'),\n",
       " Text(0,0,'$2B')]"
      ]
     },
     "execution_count": 92,
     "metadata": {},
     "output_type": "execute_result"
    },
    {
     "data": {
      "image/png": "[encoded data removed]",
      "text/plain": [
       "<matplotlib.figure.Figure at 0x10a859c50>"
      ]
     },
     "metadata": {},
     "output_type": "display_data"
    }
   ],
   "source": [
    "%matplotlib inline\n",
    "y_ticks = ['0', '$250M', '$500M', '$750M', '$1B', '$1.25B', '$1.5B', '$1.75B', '$2B']\n",
    "plt.bar(df_sort_og, df_sort_revenue)\n",
    "plt.xticks(rotation=90)\n",
    "plt.xlabel('Movie Title')\n",
    "plt.ylabel('Revenue (M = Millions and B = Billions)')\n",
    "plt.title('Top 5 movies with highest revenue in 2015')\n",
    "plt.gca().invert_xaxis()\n",
    "ax = plt.gca()\n",
    "ax.get_yaxis().get_major_formatter().set_scientific(False)\n",
    "ax.set_yticklabels(y_ticks)"
   ]
  },
  {
   "cell_type": "markdown",
   "metadata": {
    "collapsed": true
   },
   "source": [
    "### Question 2: In 2015, what was the budget distribution?"
   ]
  },
  {
   "cell_type": "markdown",
   "metadata": {},
   "source": [
    "> **Step 5 - Section B**\n",
    "\n",
    "> **Code block 17**: Instead of using a bar chart like our previous chart, we use a histogram which shows us the distribution of a given piece of data. This particular chart shows us the distribution in budget for movies in 2015."
   ]
  },
  {
   "cell_type": "code",
   "execution_count": 93,
   "metadata": {},
   "outputs": [
    {
     "data": {
      "text/plain": [
       "[Text(0,0,'0'),\n",
       " Text(0,0,'0'),\n",
       " Text(0,0,'$50M'),\n",
       " Text(0,0,'$100M'),\n",
       " Text(0,0,'$150M'),\n",
       " Text(0,0,'$200M'),\n",
       " Text(0,0,'$250M')]"
      ]
     },
     "execution_count": 93,
     "metadata": {},
     "output_type": "execute_result"
    },
    {
     "data": {
      "image/png": "[encoded data removed]",
      "text/plain": [
       "<matplotlib.figure.Figure at 0x114a85278>"
      ]
     },
     "metadata": {},
     "output_type": "display_data"
    }
   ],
   "source": [
    "%matplotlib inline\n",
    "# plotting a histogram based on the budget in 2015\n",
    "x_ticks = ['0', '0', '$50M', '$100M', '$150M', '$200M', '$250M']\n",
    "plt.hist(df.query('release_year == 2015')['budget'])\n",
    "plt.xlabel('Budget (M = Millions)')\n",
    "plt.ylabel('Number of movies')\n",
    "plt.title('Budget for movies in 2015')\n",
    "ax = plt.gca()\n",
    "ax.get_xaxis().get_major_formatter().set_scientific(False)\n",
    "ax.set_xticklabels(x_ticks)"
   ]
  },
  {
   "cell_type": "markdown",
   "metadata": {},
   "source": [
    "### Question 3: In 2015, what was the revenue distribution? "
   ]
  },
  {
   "cell_type": "markdown",
   "metadata": {},
   "source": [
    "> **Step 5 - Section C**\n",
    "\n",
    "> **Code block 16**: Again, instead of using a bar chart like our first chart, we use a histogram which shows us the distribution of a given piece of data. This particular chart shows us the distribution in revenue for movies in 2015. "
   ]
  },
  {
   "cell_type": "code",
   "execution_count": 94,
   "metadata": {},
   "outputs": [
    {
     "data": {
      "text/plain": [
       "[Text(0,0,'0'),\n",
       " Text(0,0,'0'),\n",
       " Text(0,0,'$5M'),\n",
       " Text(0,0,'$1B'),\n",
       " Text(0,0,'$1.5B'),\n",
       " Text(0,0,'$2B')]"
      ]
     },
     "execution_count": 94,
     "metadata": {},
     "output_type": "execute_result"
    },
    {
     "data": {
      "image/png": "[encoded data removed]",
      "text/plain": [
       "<matplotlib.figure.Figure at 0x108d2bb70>"
      ]
     },
     "metadata": {},
     "output_type": "display_data"
    }
   ],
   "source": [
    "%matplotlib inline\n",
    "# plotting a histogram on the revenue in 2015\n",
    "x_ticks = ['0', '0', '$5M', '$1B', '$1.5B', '$2B']\n",
    "plt.hist(df.query('release_year == 2015')['revenue'])\n",
    "plt.xlabel('Revenue (B = Billions and M = Millions)')\n",
    "plt.ylabel('Number of movies')\n",
    "plt.title('Revenue for movies in 2015')\n",
    "ax = plt.gca()\n",
    "ax.get_xaxis().get_major_formatter().set_scientific(False)\n",
    "ax.set_xticklabels(x_ticks)"
   ]
  },
  {
   "cell_type": "markdown",
   "metadata": {},
   "source": [
    "### Question 4: What is the correlation from budget and revenue in 2015?"
   ]
  },
  {
   "cell_type": "markdown",
   "metadata": {},
   "source": [
    "> **Step 5 - Section D**\n",
    "\n",
    "> **Code block 18**: To see whether a relationship is positive or negative we can use a scatter plot. \n",
    "This chart in particular measures the relationship between revenue and budget for movies in 2015."
   ]
  },
  {
   "cell_type": "code",
   "execution_count": 95,
   "metadata": {},
   "outputs": [
    {
     "data": {
      "text/plain": [
       "[Text(0,0,'0'),\n",
       " Text(0,0,'0'),\n",
       " Text(0,0,'$5M'),\n",
       " Text(0,0,'$1B'),\n",
       " Text(0,0,'$1.5B'),\n",
       " Text(0,0,'$2B')]"
      ]
     },
     "execution_count": 95,
     "metadata": {},
     "output_type": "execute_result"
    },
    {
     "data": {
      "image/png": "[encoded data removed]",
      "text/plain": [
       "<matplotlib.figure.Figure at 0x10a8490b8>"
      ]
     },
     "metadata": {},
     "output_type": "display_data"
    }
   ],
   "source": [
    "# variables budget and revenue give us the budget and revenue values once sorted and filtered for 2015\n",
    "x_ticks = ['0', '0', '$50M', '$100M', '$150M', '$200M', '$250M']\n",
    "y_ticks = ['0', '0', '$5M', '$1B', '$1.5B', '$2B']\n",
    "budget = df.query('release_year == 2015').sort_values(['budget'])['budget']\n",
    "revenue = df.query('release_year == 2015').sort_values(['budget'])['revenue']\n",
    "plt.scatter(budget, revenue)\n",
    "plt.xlabel('Budget (M = Millions)')\n",
    "plt.ylabel('Revenue (B = Billions)')\n",
    "plt.title('Relationship between revenue and budget for 2015')\n",
    "ax = plt.gca()\n",
    "ax.get_xaxis().get_major_formatter().set_scientific(False)\n",
    "ax.get_yaxis().get_major_formatter().set_scientific(False)\n",
    "ax.set_xticklabels(x_ticks)\n",
    "ax.set_yticklabels(y_ticks)"
   ]
  },
  {
   "cell_type": "markdown",
   "metadata": {},
   "source": [
    "<a id=\"conclusions\"></a>\n",
    "## Conclusions"
   ]
  },
  {
   "cell_type": "markdown",
   "metadata": {},
   "source": [
    "> After we cleaned the data, saw, and plotted the data, we see how movies have grown over the years in terms of revenue and budget. <br/>\n",
    "\n",
    "> **Limitations**: I believe that we could have posed far better and deeper questions if some of the data wasn't incomplete. Which ultimately lead to the questions that we decided to ask and answer. <br/>\n",
    "We were limited in some deeper aspects of the data. For example, say we wanted to find the total amount the movie paid its cast members. Some of the data was redundant and definitely not needed which lead us to ask broad questions.\n",
    "\n",
    "\n",
    "> **Question 1**: What are the top 5 highest revenue films in 2015? <br/>\n",
    "**Answer**: Our bar chart shows us that the film with the highest revenue was Star Wars: The Force Awakens\n",
    "\n",
    "> **Question 2**: In 2015, what was the budget distribution? <br/>\n",
    "**Answer**: Right Skewed. As we can see from our next question, high budget films earn high revenue. \n",
    "\n",
    "> **Question 3**: In 2015, what was the revenue distribution? <br/>\n",
    "**Answer**: Right Skewed. Vice Versa, low budget films, earn low revenue. \n",
    "\n",
    "> **Question 4**: What is the correlation from budget and revenue in 2015? <br/>\n",
    "**Answer**: We have a positive correlation. Again, where we can see, high budget films earn high revenue. "
   ]
  },
  {
   "cell_type": "code",
   "execution_count": null,
   "metadata": {},
   "outputs": [],
   "source": []
  },
  {
   "cell_type": "code",
   "execution_count": null,
   "metadata": {
    "collapsed": true
   },
   "outputs": [],
   "source": []
  }
 ],
 "metadata": {
  "kernelspec": {
   "display_name": "Python [default]",
   "language": "python",
   "name": "python3"
  },
  "language_info": {
   "codemirror_mode": {
    "name": "ipython",
    "version": 3
   },
   "file_extension": ".py",
   "mimetype": "text/x-python",
   "name": "python",
   "nbconvert_exporter": "python",
   "pygments_lexer": "ipython3",
   "version": "3.6.3"
  }
 },
 "nbformat": 4,
 "nbformat_minor": 2
}
